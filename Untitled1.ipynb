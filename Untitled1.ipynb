{
 "cells": [
  {
   "cell_type": "code",
   "execution_count": 16,
   "metadata": {},
   "outputs": [],
   "source": [
    "import OCC\n",
    "import numpy as np\n",
    "import matplotlib as mplot\n",
    "\n",
    "# from OCC.STEPControl import STEPControl_Reader\n",
    "# from OCC.IFSelect import IFSelect_RetDone, IFSelect_ItemsByEntity\n",
    "# from OCC.Display.SimpleGui import init_display\n",
    "# from OCC.Display.WebGl import threejs_renderer\n"
   ]
  },
  {
   "cell_type": "code",
   "execution_count": 21,
   "metadata": {},
   "outputs": [],
   "source": [
    "fileName = \"RDU_450_LA2 CA Cooling Standard Size.stp\"\n",
    "\n",
    "#help(OCC.PYTHONOCC_VERSION_MAJOR.imag)\n",
    "#import ifcopenshell\n",
    "#step_reader = STEPControl_Reader()\n",
    "#status = step_reader.ReadFile('./models/test.STEP')"
   ]
  },
  {
   "cell_type": "code",
   "execution_count": 24,
   "metadata": {},
   "outputs": [],
   "source": [
    "import OCC.Core.STEPControl as STEPControl"
   ]
  },
  {
   "cell_type": "code",
   "execution_count": 25,
   "metadata": {},
   "outputs": [],
   "source": [
    "reader = STEPControl.STEPControl_Reader()"
   ]
  },
  {
   "cell_type": "code",
   "execution_count": 27,
   "metadata": {},
   "outputs": [
    {
     "data": {
      "text/plain": [
       "1"
      ]
     },
     "execution_count": 27,
     "metadata": {},
     "output_type": "execute_result"
    }
   ],
   "source": [
    "reader.ReadFile(fileName)"
   ]
  },
  {
   "cell_type": "code",
   "execution_count": null,
   "metadata": {},
   "outputs": [],
   "source": []
  }
 ],
 "metadata": {
  "kernelspec": {
   "display_name": "Python 3",
   "language": "python",
   "name": "python3"
  },
  "language_info": {
   "codemirror_mode": {
    "name": "ipython",
    "version": 3
   },
   "file_extension": ".py",
   "mimetype": "text/x-python",
   "name": "python",
   "nbconvert_exporter": "python",
   "pygments_lexer": "ipython3",
   "version": "3.7.6"
  }
 },
 "nbformat": 4,
 "nbformat_minor": 4
}
